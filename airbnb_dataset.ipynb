{
 "cells": [
  {
   "cell_type": "markdown",
   "metadata": {
    "slideshow": {
     "slide_type": "slide"
    }
   },
   "source": [
    "# Airbnb Sydney"
   ]
  },
  {
   "source": [
    "`imports`"
   ],
   "cell_type": "markdown",
   "metadata": {
    "slideshow": {
     "slide_type": "slide"
    }
   }
  },
  {
   "cell_type": "code",
   "execution_count": 7,
   "metadata": {
    "slideshow": {
     "slide_type": "-"
    }
   },
   "outputs": [],
   "source": [
    "import matplotlib\n",
    "import matplotlib.pyplot as plt\n",
    "import numpy as np\n",
    "import pandas as pd\n",
    "import os\n",
    "from datetime import datetime"
   ]
  },
  {
   "cell_type": "code",
   "execution_count": 6,
   "metadata": {
    "slideshow": {
     "slide_type": "-"
    }
   },
   "outputs": [],
   "source": [
    "%matplotlib inline"
   ]
  },
  {
   "cell_type": "code",
   "execution_count": 14,
   "metadata": {
    "slideshow": {
     "slide_type": "skip"
    }
   },
   "outputs": [],
   "source": [
    "saved_style_state = matplotlib.rcParams.copy() #give us a style state to go back to"
   ]
  },
  {
   "cell_type": "code",
   "execution_count": 15,
   "metadata": {},
   "outputs": [
    {
     "output_type": "stream",
     "name": "stdout",
     "text": [
      "loading from file\ndone\n"
     ]
    }
   ],
   "source": [
    "if os.path.isfile(\"listings.csv\"):\n",
    "    filepath = \"listings.csv\"\n",
    "    print(\"loading from file\")\n",
    "else:\n",
    "    filepath = \"http://data.insideairbnb.com/australia/nsw/sydney/2021-04-10/visualisations/listings.csv\"\n",
    "    print(\"retrieve from the inside airbnb\")\n",
    "\n",
    "airbnb_data = pd.read_csv(\"listings.csv\")\n",
    "print(\"done\")"
   ]
  },
  {
   "cell_type": "code",
   "execution_count": 21,
   "metadata": {},
   "outputs": [
    {
     "output_type": "execute_result",
     "data": {
      "text/plain": [
       "      id                                               name  host_id  \\\n",
       "0  11156                               An Oasis in the City    40855   \n",
       "1  12351                  Sydney City & Harbour at the door    17061   \n",
       "2  14250                                Manly Harbour House    55948   \n",
       "3  15253  Unique Designer Rooftop Apartment in City Loca...    59850   \n",
       "4  44545             Sunny Darlinghurst Warehouse Apartment   112237   \n",
       "\n",
       "  host_name  neighbourhood_group neighbourhood  latitude  longitude  \\\n",
       "0   Colleen                  NaN        Sydney -33.86767  151.22497   \n",
       "1    Stuart                  NaN        Sydney -33.86490  151.19171   \n",
       "2     Heidi                  NaN         Manly -33.80084  151.26378   \n",
       "3     Morag                  NaN        Sydney -33.87964  151.21680   \n",
       "4     Atari                  NaN        Sydney -33.87888  151.21439   \n",
       "\n",
       "         room_type  price  minimum_nights  number_of_reviews last_review  \\\n",
       "0     Private room     65               2                196  2020-03-13   \n",
       "1     Private room  14315               2                526  2019-09-22   \n",
       "2  Entire home/apt    470               5                  2  2019-01-02   \n",
       "3     Private room     80               2                367  2021-03-07   \n",
       "4  Entire home/apt    130               3                 76  2020-01-03   \n",
       "\n",
       "   reviews_per_month  calculated_host_listings_count  availability_365  \n",
       "0               1.42                               1               364  \n",
       "1               4.03                               2                 0  \n",
       "2               0.03                               2               122  \n",
       "3               3.30                               1               336  \n",
       "4               0.60                               1                 0  "
      ],
      "text/html": "<div>\n<style scoped>\n    .dataframe tbody tr th:only-of-type {\n        vertical-align: middle;\n    }\n\n    .dataframe tbody tr th {\n        vertical-align: top;\n    }\n\n    .dataframe thead th {\n        text-align: right;\n    }\n</style>\n<table border=\"1\" class=\"dataframe\">\n  <thead>\n    <tr style=\"text-align: right;\">\n      <th></th>\n      <th>id</th>\n      <th>name</th>\n      <th>host_id</th>\n      <th>host_name</th>\n      <th>neighbourhood_group</th>\n      <th>neighbourhood</th>\n      <th>latitude</th>\n      <th>longitude</th>\n      <th>room_type</th>\n      <th>price</th>\n      <th>minimum_nights</th>\n      <th>number_of_reviews</th>\n      <th>last_review</th>\n      <th>reviews_per_month</th>\n      <th>calculated_host_listings_count</th>\n      <th>availability_365</th>\n    </tr>\n  </thead>\n  <tbody>\n    <tr>\n      <th>0</th>\n      <td>11156</td>\n      <td>An Oasis in the City</td>\n      <td>40855</td>\n      <td>Colleen</td>\n      <td>NaN</td>\n      <td>Sydney</td>\n      <td>-33.86767</td>\n      <td>151.22497</td>\n      <td>Private room</td>\n      <td>65</td>\n      <td>2</td>\n      <td>196</td>\n      <td>2020-03-13</td>\n      <td>1.42</td>\n      <td>1</td>\n      <td>364</td>\n    </tr>\n    <tr>\n      <th>1</th>\n      <td>12351</td>\n      <td>Sydney City &amp; Harbour at the door</td>\n      <td>17061</td>\n      <td>Stuart</td>\n      <td>NaN</td>\n      <td>Sydney</td>\n      <td>-33.86490</td>\n      <td>151.19171</td>\n      <td>Private room</td>\n      <td>14315</td>\n      <td>2</td>\n      <td>526</td>\n      <td>2019-09-22</td>\n      <td>4.03</td>\n      <td>2</td>\n      <td>0</td>\n    </tr>\n    <tr>\n      <th>2</th>\n      <td>14250</td>\n      <td>Manly Harbour House</td>\n      <td>55948</td>\n      <td>Heidi</td>\n      <td>NaN</td>\n      <td>Manly</td>\n      <td>-33.80084</td>\n      <td>151.26378</td>\n      <td>Entire home/apt</td>\n      <td>470</td>\n      <td>5</td>\n      <td>2</td>\n      <td>2019-01-02</td>\n      <td>0.03</td>\n      <td>2</td>\n      <td>122</td>\n    </tr>\n    <tr>\n      <th>3</th>\n      <td>15253</td>\n      <td>Unique Designer Rooftop Apartment in City Loca...</td>\n      <td>59850</td>\n      <td>Morag</td>\n      <td>NaN</td>\n      <td>Sydney</td>\n      <td>-33.87964</td>\n      <td>151.21680</td>\n      <td>Private room</td>\n      <td>80</td>\n      <td>2</td>\n      <td>367</td>\n      <td>2021-03-07</td>\n      <td>3.30</td>\n      <td>1</td>\n      <td>336</td>\n    </tr>\n    <tr>\n      <th>4</th>\n      <td>44545</td>\n      <td>Sunny Darlinghurst Warehouse Apartment</td>\n      <td>112237</td>\n      <td>Atari</td>\n      <td>NaN</td>\n      <td>Sydney</td>\n      <td>-33.87888</td>\n      <td>151.21439</td>\n      <td>Entire home/apt</td>\n      <td>130</td>\n      <td>3</td>\n      <td>76</td>\n      <td>2020-01-03</td>\n      <td>0.60</td>\n      <td>1</td>\n      <td>0</td>\n    </tr>\n  </tbody>\n</table>\n</div>"
     },
     "metadata": {},
     "execution_count": 21
    }
   ],
   "source": [
    "airbnb_data.head()"
   ]
  },
  {
   "cell_type": "code",
   "execution_count": 27,
   "metadata": {},
   "outputs": [
    {
     "output_type": "execute_result",
     "data": {
      "text/plain": [
       "Index(['id', 'name', 'host_id', 'host_name', 'neighbourhood_group',\n",
       "       'neighbourhood', 'latitude', 'longitude', 'room_type', 'price',\n",
       "       'minimum_nights', 'number_of_reviews', 'last_review',\n",
       "       'reviews_per_month', 'calculated_host_listings_count',\n",
       "       'availability_365'],\n",
       "      dtype='object')"
      ]
     },
     "metadata": {},
     "execution_count": 27
    }
   ],
   "source": [
    "airbnb_data.columns"
   ]
  },
  {
   "cell_type": "code",
   "execution_count": 28,
   "metadata": {},
   "outputs": [
    {
     "output_type": "execute_result",
     "data": {
      "text/plain": [
       "id                                               11156\n",
       "name                              An Oasis in the City\n",
       "host_id                                          40855\n",
       "host_name                                      Colleen\n",
       "neighbourhood_group                                NaN\n",
       "neighbourhood                                   Sydney\n",
       "latitude                                     -33.86767\n",
       "longitude                                    151.22497\n",
       "room_type                                 Private room\n",
       "price                                               65\n",
       "minimum_nights                                       2\n",
       "number_of_reviews                                  196\n",
       "last_review                                 2020-03-13\n",
       "reviews_per_month                                 1.42\n",
       "calculated_host_listings_count                       1\n",
       "availability_365                                   364\n",
       "Name: 0, dtype: object"
      ]
     },
     "metadata": {},
     "execution_count": 28
    }
   ],
   "source": [
    "row_one = airbnb_data.iloc[0]\n",
    "row_one"
   ]
  },
  {
   "cell_type": "code",
   "execution_count": 29,
   "metadata": {},
   "outputs": [
    {
     "output_type": "execute_result",
     "data": {
      "text/plain": [
       "'Colleen'"
      ]
     },
     "metadata": {},
     "execution_count": 29
    }
   ],
   "source": [
    "row_one[\"host_name\"]"
   ]
  },
  {
   "cell_type": "code",
   "execution_count": 30,
   "metadata": {},
   "outputs": [
    {
     "output_type": "execute_result",
     "data": {
      "text/plain": [
       "'Colleen'"
      ]
     },
     "metadata": {},
     "execution_count": 30
    }
   ],
   "source": [
    "row_one.host_name"
   ]
  },
  {
   "cell_type": "code",
   "execution_count": null,
   "metadata": {},
   "outputs": [],
   "source": [
    "income = penalty_data[[\"OFFENCE_MONTH\",\"FACE_VALUE\"]].groupby(\"OFFENCE_MONTH\").sum()\n",
    "\n",
    "plt.xkcd()\n",
    "plt.plot(income, \"x-\")\n",
    "plt.title(\"Monthly income from fines\", fontsize=18)\n",
    "plt.xlabel('Date', fontsize=26)\n",
    "plt.ylabel('$ Value', fontsize=26)\n",
    "plt.grid(True)\n",
    "plt.show()"
   ]
  }
 ],
 "metadata": {
  "kernelspec": {
   "name": "python3",
   "display_name": "Python 3.8.8 64-bit ('base': conda)"
  },
  "language_info": {
   "codemirror_mode": {
    "name": "ipython",
    "version": 3
   },
   "file_extension": ".py",
   "mimetype": "text/x-python",
   "name": "python",
   "nbconvert_exporter": "python",
   "pygments_lexer": "ipython3",
   "version": "3.8.8"
  },
  "interpreter": {
   "hash": "ed225720166559e7176d3793db16a2fd8d295f725007103b21ac3099d2a89ee8"
  }
 },
 "nbformat": 4,
 "nbformat_minor": 1
}